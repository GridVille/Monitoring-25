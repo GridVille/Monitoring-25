{
 "cells": [
  {
   "cell_type": "code",
   "execution_count": 46,
   "metadata": {},
   "outputs": [],
   "source": [
    "# myapp.py\n",
    "import logging\n",
    "logger = logging.getLogger(\"hei\")\n",
    "\n",
    "def main():\n",
    "    logging.basicConfig(filename='myapp.log', level=logging.INFO)\n",
    "    logger.info('Started')\n",
    "    logger.info('Finished')\n",
    "    logger.info('Finished')\n",
    "    logger.info('screwed up')\n",
    "\n",
    "\n",
    "if __name__ == '__main__':\n",
    "    main()\n"
   ]
  },
  {
   "cell_type": "code",
   "execution_count": 3,
   "metadata": {},
   "outputs": [
    {
     "name": "stdout",
     "output_type": "stream",
     "text": [
      "2025-02-09 12:48:58,198 - my_logger - DEBUG - This is a debug message\n",
      "2025-02-09 12:48:58,202 - my_logger - INFO - This is an info message\n",
      "2025-02-09 12:48:58,205 - my_logger - WARNING - This is a warning message\n",
      "2025-02-09 12:48:58,207 - my_logger - ERROR - This is an error message\n",
      "2025-02-09 12:48:58,210 - my_logger - CRITICAL - This is a critical message\n"
     ]
    }
   ],
   "source": [
    "import logging\n",
    "import sys\n",
    "\n",
    "# Create a logger\n",
    "logger = logging.getLogger('my_logger')\n",
    "logger.setLevel(logging.DEBUG)  # Set the logging level\n",
    "\n",
    "# Create a handler that logs to standard output\n",
    "handler = logging.StreamHandler(sys.stdout)\n",
    "handler.setLevel(logging.DEBUG)  # Set the handler's logging level\n",
    "\n",
    "# Create a formatter and set it for the handler\n",
    "formatter = logging.Formatter('%(asctime)s - %(name)s - %(levelname)s - %(message)s')\n",
    "handler.setFormatter(formatter)\n",
    "\n",
    "# Add the handler to the logger\n",
    "logger.addHandler(handler)\n",
    "\n",
    "# Example usage\n",
    "logger.debug('This is a debug message')\n",
    "logger.info('This is an info message')\n",
    "logger.warning('This is a warning message')\n",
    "logger.error('This is an error message')\n",
    "logger.critical('This is a critical message')"
   ]
  },
  {
   "cell_type": "code",
   "execution_count": 47,
   "metadata": {},
   "outputs": [
    {
     "name": "stdout",
     "output_type": "stream",
     "text": [
      "Logs sent successfully!\n"
     ]
    }
   ],
   "source": [
    "import requests\n",
    "import time\n",
    "\n",
    "# Define the Loki endpoint and log file path\n",
    "loki_url = 'http://localhost:3100/loki/api/v1/push'\n",
    "log_file_path = 'myapp.log'\n",
    "\n",
    "# Read the log file\n",
    "with open(log_file_path, 'r') as file:\n",
    "    log_lines = file.readlines()\n",
    "\n",
    "# Prepare the payload for Loki\n",
    "payload = {\n",
    "    \"streams\": [\n",
    "        {\n",
    "            \"stream\": {\n",
    "                \"job\": \"your-job-name\"\n",
    "            },\n",
    "            \"values\": [\n",
    "                [str(int(time.time() * 1e9)), line.strip()] for line in log_lines\n",
    "            ]\n",
    "        }\n",
    "    ]\n",
    "}\n",
    "\n",
    "# Send the log data to Loki\n",
    "response = requests.post(loki_url, json=payload)\n",
    "\n",
    "# Check the response\n",
    "if response.status_code == 204:\n",
    "    print(\"Logs sent successfully!\")\n",
    "else:\n",
    "    print(f\"Failed to send logs. Status code: {response.status_code}, Response: {response.text}\")"
   ]
  }
 ],
 "metadata": {
  "kernelspec": {
   "display_name": "py39_QNode",
   "language": "python",
   "name": "python3"
  },
  "language_info": {
   "codemirror_mode": {
    "name": "ipython",
    "version": 3
   },
   "file_extension": ".py",
   "mimetype": "text/x-python",
   "name": "python",
   "nbconvert_exporter": "python",
   "pygments_lexer": "ipython3",
   "version": "3.9.20"
  }
 },
 "nbformat": 4,
 "nbformat_minor": 2
}
